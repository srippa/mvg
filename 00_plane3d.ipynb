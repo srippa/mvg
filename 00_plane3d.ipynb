{
 "cells": [
  {
   "cell_type": "code",
   "execution_count": null,
   "metadata": {},
   "outputs": [],
   "source": [
    "#| default_exp plane3d"
   ]
  },
  {
   "cell_type": "markdown",
   "metadata": {},
   "source": [
    "# plane3D \n",
    "\n",
    "> Definition and operations on a three dimensional plane"
   ]
  },
  {
   "cell_type": "code",
   "execution_count": null,
   "metadata": {},
   "outputs": [],
   "source": [
    "#|hide\n",
    "\n",
    "%load_ext autoreload\n",
    "%autoreload 2\n",
    "\n",
    "from nbdev.showdoc import *"
   ]
  },
  {
   "cell_type": "code",
   "execution_count": null,
   "metadata": {},
   "outputs": [],
   "source": [
    "#|export\n",
    "\n",
    "import numpy as np\n",
    "import pyransac3d \n",
    "from easydict import EasyDict as edict\n",
    "from fastcore.utils import *    # to get patch"
   ]
  },
  {
   "cell_type": "markdown",
   "metadata": {},
   "source": [
    "A 3D plane is defined by the implicit equation \n",
    "$$\n",
    "ax + by + cz + d=0\n",
    "$$\n",
    "which we will express as \n",
    "$$\n",
    "\\tt{eq}[0]x + \\tt{eq}[1]y + \\tt{eq}[2]z + \\tt{eq}[3]=0\n",
    "$$"
   ]
  },
  {
   "cell_type": "code",
   "execution_count": null,
   "metadata": {},
   "outputs": [],
   "source": [
    "#|export\n",
    "\n",
    "class Plane3d:\n",
    "    def __init__(self, \n",
    "                 eq: np.ndarray):  # The plane coefficients $(a,b,c,d)$=(eq[0],eq[1],eq[2],eq[3])\n",
    "        \"3D plane\"\n",
    "        self.eq = eq    \n",
    "    def __str__(self): return f'<{self.eq}, (x,y,z,1)>=0'\n",
    "    __repr__ = __str__\n",
    "\n",
    "    @property\n",
    "    def normal(self):\n",
    "        \"Return a normal vector to the plane\"\n",
    "        return np.array([self.eq[0], self.eq[1], self.eq[2]]) # Return the normal vector as 3D array\n",
    "    \n",
    "    def x_val(self, y, z):\n",
    "        \"Retun the x component of the plane given (y,z) coordinates. Note: will fail when $a=0$\"\n",
    "        return ((self.eq[2]*z + self.eq[1]*y + self.eq[3]) / (-self.eq[0]))\n",
    "    \n",
    "    def y_val(self, x, z):\n",
    "        \"Retun the x component of the plane given (x,z) coordinates. Note: will fail when $b=0$\"\n",
    "        return ((self.eq[0] * x + self.eq[2]*z + self.eq[3]) / (-self.eq[1]))\n",
    "\n",
    "    def z_val(self, x, y):\n",
    "        \"Retun the z component of the plane given (x,y) coordinates. Note: will fail when $c=0$\"\n",
    "        return ((self.eq[0] * x + self.eq[1] * y + self.eq[3]) / (-self.eq[2]))\n",
    "    \n",
    "    @staticmethod\n",
    "    def normal_to_3_points(p0: np.ndarray, # 3D array - first point\n",
    "                           p1: np.ndarray, # 3D array - second point\n",
    "                           p2: np.ndarray): # 3D array - third point\n",
    "        \"Get the normal to 3 points\"\n",
    "        v1 = p1 - p0         # line p1 -- p0\n",
    "        v2 = p2 - p0         # line p2 -- p0 \n",
    "        n = np.cross(v1, v2)\n",
    "        return n\n",
    "\n",
    "    @staticmethod\n",
    "    def from_normal_and_point(n: np.array, # 3D array: Normal vectror\n",
    "                              p0: np.array): # 3D array: ap 3D point\n",
    "        eq = np.array([n[0], n[1], n[2], -np.dot(n,p0)])\n",
    "        return Plane3d(eq)\n",
    "        \n",
    "    @staticmethod\n",
    "    def from_3_points(p0: np.ndarray, # 3D array - first point\n",
    "                      p1: np.ndarray, # 3D array - second point\n",
    "                      p2: np.ndarray): # 3D array - third point\n",
    "        \"Construct a plane from 3 points\"\n",
    "        n = Plane3d.normal_to_3_points(p0,p1,p2)\n",
    "        return Plane3d.from_normal_and_point(n, p0)\n",
    "\n",
    "    @staticmethod\n",
    "    def fit_plane(points, thresh=0.1,minPoints=30):\n",
    "        plane1 = pyransac3d.Plane()\n",
    "        best_eq, best_inliers = plane1.fit(points, thresh=thresh,minPoints=minPoints)\n",
    "        return Plane3d(best_eq), best_inliers\n"
   ]
  },
  {
   "cell_type": "code",
   "execution_count": null,
   "metadata": {},
   "outputs": [
    {
     "data": {
      "text/markdown": [
       "---\n",
       "\n",
       "#### Plane3d.y_val\n",
       "\n",
       ">      Plane3d.y_val (x, z)\n",
       "\n",
       "Retun the x component of the plane given (x,z) coordinates. Note: will fail when $b=0$"
      ],
      "text/plain": [
       "<nbdev.showdoc.BasicMarkdownRenderer>"
      ]
     },
     "execution_count": null,
     "metadata": {},
     "output_type": "execute_result"
    }
   ],
   "source": [
    "show_doc(Plane3d.x_val)\n",
    "show_doc(Plane3d.y_val)"
   ]
  },
  {
   "cell_type": "markdown",
   "metadata": {},
   "source": [
    "Build the plane that passes thgrough points $(0,0,0)$, $(0,1,0)$ and $(1,1,0)$. This is the plane $z=0$"
   ]
  },
  {
   "cell_type": "code",
   "execution_count": null,
   "metadata": {},
   "outputs": [
    {
     "data": {
      "text/plain": [
       "<[ 0.  0. -1. -0.], (x,y,z,1)>=0"
      ]
     },
     "execution_count": null,
     "metadata": {},
     "output_type": "execute_result"
    }
   ],
   "source": [
    "p0 = np.array([0.0,0.0,0.0])\n",
    "p1 = np.array([0.0,1.0,0.0])\n",
    "p2 = np.array([1.0,1.0,0.0])\n",
    "plane_3d = Plane3d.from_3_points(p0,p1,p2)\n",
    "plane_3d"
   ]
  },
  {
   "cell_type": "code",
   "execution_count": null,
   "metadata": {},
   "outputs": [],
   "source": [
    "#|export\n",
    "\n",
    "@patch\n",
    "def get_span_vectors(self:Plane3d):\n",
    "    \"Return two vectors $v_1,v_2$ spanning the plane: independent vectors that are on the plane\"\n",
    "    # get two points on a plane\n",
    "    if np.abs(self.eq[0]) > np.finfo(np.float32).eps:\n",
    "        # a != 0\n",
    "        p0 = np.array([self.x_val(0, 0),0,0])     # point on the plane with coordinates x, y=0, z=0\n",
    "        p1 = np.array([self.x_val(0, 1),0,1])     # point on the plane with coordinates x, y=0, z=1\n",
    "    elif np.abs(self.eq[1]) > np.finfo(np.float32).eps:\n",
    "        # b != 0\n",
    "        p0 = np.array([0,self.y_val(0, 0),0])     # point on the plane with coordinates x=0, y, z=0\n",
    "        p1 = np.array([0,self.y_val(0, 1),1])     # point on the plane with coordinates x=0, y, z=1\n",
    "    elif np.abs(self.eq[2]) > np.finfo(np.float32).eps:\n",
    "        # c != 0\n",
    "        p0 = np.array([0,0, self.z_val(0, 0)])     # point on the plane with coordinates x=0, y=0, z\n",
    "        p1 = np.array([0,1, self.z_val(0, 1)])     # point on the plane with coordinates x=0, y=0, z\n",
    "\n",
    "    v1 = p1 - p0                             # vector p0 --> p1 is on the plane\n",
    "    v2 = np.cross(v1, self.normal)      # vector on the plane perpendicular to v1\n",
    "    v1 = v1/np.linalg.norm(v1)               \n",
    "    v2= v2/np.linalg.norm(v2)                \n",
    "\n",
    "    return edict(origin=p0,v1=v1, v2=v2)"
   ]
  },
  {
   "cell_type": "code",
   "execution_count": null,
   "metadata": {},
   "outputs": [
    {
     "data": {
      "text/plain": [
       "{'origin': array([0., 0., 0.]),\n",
       " 'v1': array([0., 1., 0.]),\n",
       " 'v2': array([-1.,  0.,  0.])}"
      ]
     },
     "execution_count": null,
     "metadata": {},
     "output_type": "execute_result"
    }
   ],
   "source": [
    "plane_3d.get_span_vectors()"
   ]
  },
  {
   "cell_type": "markdown",
   "metadata": {},
   "source": [
    "## Transformations"
   ]
  },
  {
   "cell_type": "code",
   "execution_count": null,
   "metadata": {},
   "outputs": [],
   "source": [
    "#|export\n",
    "\n",
    "@patch\n",
    "def transform_plane(self:Plane3d, transformation):\n",
    "    p1 = [0, 1, self.z_val(0, 1)]\n",
    "    p2 = [1, 0, self.z_val(1, 0)]\n",
    "    p3 = [1, 1, self.z_val(1, 1)]\n",
    "\n",
    "    transform_points = transformation(np.array([p1, p2, p3]))\n",
    "    return Plane3d.find_eq(np.array(transform_points))\n",
    "\n",
    "@patch\n",
    "def project_3D_points(self:Plane3d,p):\n",
    "    p_center = p-self.project_2d['origin']\n",
    "    return np.matmul(p_center,self.project_2d['projection'].T)\n",
    "\n",
    "@patch\n",
    "def inject_2D_points(self:Plane3d,p):\n",
    "    return np.matmul(p,self.project_2d['projection']) + self.project_2d['origin']\n",
    "        "
   ]
  },
  {
   "cell_type": "code",
   "execution_count": null,
   "metadata": {},
   "outputs": [
    {
     "data": {
      "text/markdown": [
       "---\n",
       "\n",
       "#### Plane3d.transform_plane\n",
       "\n",
       ">      Plane3d.transform_plane (transformation)"
      ],
      "text/plain": [
       "<nbdev.showdoc.BasicMarkdownRenderer>"
      ]
     },
     "execution_count": null,
     "metadata": {},
     "output_type": "execute_result"
    }
   ],
   "source": [
    "show_doc(Plane3d.transform_plane)"
   ]
  },
  {
   "cell_type": "code",
   "execution_count": null,
   "metadata": {},
   "outputs": [],
   "source": [
    "#| hide\n",
    "from nbdev import nbdev_export\n",
    "nbdev_export()"
   ]
  },
  {
   "cell_type": "code",
   "execution_count": null,
   "metadata": {},
   "outputs": [],
   "source": []
  }
 ],
 "metadata": {
  "kernelspec": {
   "display_name": "Python 3 (ipykernel)",
   "language": "python",
   "name": "python3"
  }
 },
 "nbformat": 4,
 "nbformat_minor": 4
}
