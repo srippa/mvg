{
 "cells": [
  {
   "cell_type": "code",
   "execution_count": null,
   "metadata": {},
   "outputs": [],
   "source": [
    "#| default_exp plot3d"
   ]
  },
  {
   "cell_type": "markdown",
   "metadata": {},
   "source": [
    "# plot3d \n",
    "\n",
    "> Plotting cameras and other multi view ge0ometry objects. Inspired by the [excellent multiview notebooks](https://github.com/maxcrous/multiview_notebooks) repository"
   ]
  },
  {
   "cell_type": "code",
   "execution_count": null,
   "metadata": {},
   "outputs": [],
   "source": [
    "#|hide\n",
    "from nbdev.showdoc import *"
   ]
  },
  {
   "cell_type": "code",
   "execution_count": null,
   "metadata": {},
   "outputs": [],
   "source": [
    "#|export\n",
    "\n",
    "import numpy as np\n",
    "import pyransac3d \n",
    "\n",
    "import ipyvolume as ipv\n",
    "import matplotlib.pyplot as plt\n",
    "\n",
    "from mvgutils.plane3d import Plane3d\n"
   ]
  },
  {
   "cell_type": "markdown",
   "metadata": {},
   "source": [
    "## Basic plot functions"
   ]
  },
  {
   "cell_type": "markdown",
   "metadata": {},
   "source": [
    "Before any plotting command ,be sure to initialize the plot volume in which all geometries are expected to be embedded."
   ]
  },
  {
   "cell_type": "code",
   "execution_count": null,
   "metadata": {},
   "outputs": [],
   "source": [
    "#|export\n",
    "\n",
    "def init_3d_plot(xmin, ymin, xmax, ymax, zmin, zmax):\n",
    "    ' Initializes a ipyvolume 3d plot. Returns a fig '\n",
    "    fig = ipv.pylab.figure(figsize=(15, 15), width=800)\n",
    "    ipv.xlim(xmin, xmax)\n",
    "    ipv.ylim(ymin, ymax)\n",
    "    ipv.zlim(zmin, zmax)\n",
    "    ipv.pylab.view(azimuth=40, elevation=-150)\n",
    "    return fig"
   ]
  },
  {
   "cell_type": "code",
   "execution_count": null,
   "metadata": {},
   "outputs": [
    {
     "data": {
      "application/vnd.jupyter.widget-view+json": {
       "model_id": "e55d38c03391401e9128631dcb7941d1",
       "version_major": 2,
       "version_minor": 0
      },
      "text/plain": [
       "Figure(camera=PerspectiveCamera(fov=45.0, position=(-1.1133407984528387, -0.9999999999999999, -1.3268278963378…"
      ]
     },
     "metadata": {},
     "output_type": "display_data"
    }
   ],
   "source": [
    "xmin = -2.0\n",
    "xmax = 2.0\n",
    "ymin = -2.0\n",
    "ymax = 2.0\n",
    "zmin = -2.0\n",
    "zmax = 2.0\n",
    "fig = init_3d_plot(xmin, ymin, xmax, ymax, zmin, zmax)\n",
    "# fig\n",
    "display(fig)"
   ]
  },
  {
   "cell_type": "code",
   "execution_count": null,
   "metadata": {},
   "outputs": [],
   "source": [
    "#|export\n",
    "\n",
    "\n",
    "def plot_planar_rect(plane3d: Plane3d, \n",
    "                     size_v1=1.0, \n",
    "                     size_v2=1.0, \n",
    "                     limits=None, \n",
    "                     show_bbox:bool=False,  # True if you wish to display plot limits\n",
    "                     show_normal:bool =False): # True if you wish to display normal\n",
    "    s = plane3d.get_span_vectors()\n",
    "\n",
    "    p0 = s.origin\n",
    "    p1 = p0 + s.v1\n",
    "    p2 = p0 + s.v2\n",
    "    p3 = s.v1 + s.v2\n",
    "\n",
    "    xs = [p0[0], p1[0],p2[0], p3[0]]\n",
    "    ys = [p0[1], p1[1],p2[1], p3[1]]\n",
    "    zs = [p0[2], p1[2],p2[2], p3[2]]\n",
    "\n",
    "    xmax = np.max(xs) + 0.2\n",
    "    xmin = np.min(xs) - 0.2\n",
    "    ymax = np.max(ys) + 0.2\n",
    "    ymin = np.min(ys) - 0.2\n",
    "    zmax = np.max(zs) + 0.2\n",
    "    zmin = np.min(zs) - 0.2\n",
    "    init_3d_plot(xmin, ymin, xmax, ymax, zmin, zmax)\n",
    "\n",
    "    ipv.scatter(np.array([xs[0]]), np.array([ys[0]]), np.array([zs[0]]), color='red', marker='sphere')\n",
    "    ipv.scatter(np.array([xs[1]]), np.array([ys[1]]), np.array([zs[1]]), color='blue', marker='sphere')\n",
    "    ipv.scatter(np.array([xs[2]]), np.array([ys[2]]), np.array([zs[2]]), color='green', marker='sphere')\n",
    "    ipv.scatter(np.array([xs[3]]), np.array([ys[3]]), np.array([zs[3]]), color='yellow', marker='sphere')\n",
    "\n",
    "\n",
    "    ipv.plot_trisurf(np.array(xs), np.array(ys), np.array(zs), triangles=[[0,1,3],[2,3,0]], color ='orange')\n",
    "\n",
    "    # draw rectangular area\n",
    "    ipv.plot([xs[0], xs[1]], [ys[0], ys[1]],[zs[0], zs[1]], color='blue')\n",
    "    ipv.plot([xs[1], xs[3]], [ys[1], ys[3]],[zs[1], zs[3]], color='blue')\n",
    "    ipv.plot([xs[2], xs[3]], [ys[2], ys[3]],[zs[2], zs[3]], color='blue')\n",
    "    ipv.plot([xs[2], xs[0]], [ys[2], ys[0]],[zs[2], zs[0]], color='blue')\n",
    "\n",
    "\n",
    "    # draw normal\n",
    "    if show_normal:\n",
    "        n = plane3d.normal\n",
    "        cx = 0.5*(xmax+xmin)\n",
    "        cy = 0.5*(ymax+ymin)\n",
    "        cz = 0.5*(zmax+zmin)\n",
    "        ipv.plot([cx, cx+n[0]], [cy, cy+n[1]],[cz, cz+n[2]], color='red')\n",
    "\n",
    "    # ipv.plot([xs[0], n[0]], [ys[0], n[1]],[zs[0], n[2]], color='red')\n",
    "    # ipv.quiver([cx, cx+n[0]], [cy, cy+n[1]],[cz, cz+n[2]], [p0[0]+n[0]], [p0[1]+n[1]],[p0[2]+n[2]], color='red')\n",
    "\n",
    "    if not show_bbox:\n",
    "        ipv.style.box_off()    # erase enclosing box\n",
    "        ipv.style.axes_off()   # erase axes\n",
    "\n",
    "    return ipv"
   ]
  },
  {
   "cell_type": "markdown",
   "metadata": {},
   "source": [
    "Build the plane that passes thgrough points $(0,0,0)$, $(0,1,0)$ and $(1,1,0)$. This is the plane $z=0$"
   ]
  },
  {
   "cell_type": "code",
   "execution_count": null,
   "metadata": {},
   "outputs": [
    {
     "data": {
      "application/vnd.jupyter.widget-view+json": {
       "model_id": "b40cfa6b5798445588e52f2ca3cc23b7",
       "version_major": 2,
       "version_minor": 0
      },
      "text/plain": [
       "VBox(children=(Figure(camera=PerspectiveCamera(fov=45.0, position=(-1.1133407984528387, -0.9999999999999999, -…"
      ]
     },
     "metadata": {},
     "output_type": "display_data"
    }
   ],
   "source": [
    "p0 = np.array([0.0,0.0,0.0])\n",
    "p1 = np.array([0.0,1.0,0.0])\n",
    "p2 = np.array([1.0,1.0,0.0])\n",
    "plane_3d = Plane3d.from_3_points(p0,p1,p2)\n",
    "ipv = plot_planar_rect(plane_3d, show_bbox=True, show_normal=True)\n",
    "ipv.show()"
   ]
  },
  {
   "cell_type": "code",
   "execution_count": null,
   "metadata": {},
   "outputs": [],
   "source": [
    "#| hide\n",
    "from nbdev import nbdev_export\n",
    "nbdev_export()"
   ]
  },
  {
   "cell_type": "code",
   "execution_count": null,
   "metadata": {},
   "outputs": [],
   "source": []
  }
 ],
 "metadata": {
  "kernelspec": {
   "display_name": "Python 3 (ipykernel)",
   "language": "python",
   "name": "python3"
  }
 },
 "nbformat": 4,
 "nbformat_minor": 4
}
