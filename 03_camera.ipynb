{
 "cells": [
  {
   "cell_type": "code",
   "execution_count": null,
   "metadata": {},
   "outputs": [],
   "source": [
    "#| default_exp camera"
   ]
  },
  {
   "cell_type": "markdown",
   "metadata": {},
   "source": [
    "# Camera \n",
    "\n",
    "> Camera model focusing on a model of a pin hole camera with distortions\n",
    "\n",
    "Need to check (and possible integrate) the [code from pixlib](https://github.com/cvg/pixloc/blob/master/pixloc/pixlib/geometry/wrappers.py#L224) that provides and camera model both for torch and numpy. The discussoions in [this tweet](https://twitter.com/pesarlin/status/1558087424445652998?s=27&t=ILeCIQvS1YTIJL8yMhYFMg) anre also useful. See [pinhole model in kornia](https://kornia.readthedocs.io/en/latest/geometry.camera.pinhole.html) - no distortions and use 4x4 homogenous representation all the way also with batch dimensions.\n",
    "\n",
    "Suggest a Pose API, Intrinsics API and camera API that include both."
   ]
  },
  {
   "cell_type": "code",
   "execution_count": null,
   "metadata": {},
   "outputs": [],
   "source": [
    "#|hide\n",
    "%load_ext autoreload\n",
    "%autoreload 2\n",
    "\n",
    "from nbdev.showdoc import *\n",
    "from fastcore.utils import *    # to get patch"
   ]
  },
  {
   "cell_type": "code",
   "execution_count": null,
   "metadata": {},
   "outputs": [],
   "source": [
    "#|export\n",
    "\n",
    "import numpy as np\n",
    "import cv2\n",
    "from easydict import EasyDict as edict"
   ]
  },
  {
   "cell_type": "markdown",
   "metadata": {},
   "source": [
    "# Geometric camera model\n",
    "\n",
    "The class `Intrinsicts` models a pinhole camera with distortions. Useful books are:\n",
    "\n",
    "* The book [Computer Vision: Algorithms and Applications, 2nd ed.](http://szeliski.org/Book/),  [Richard Szeliski](https://szeliski.org/RichardSzeliski.htm), 2022 that can be freely downloaded.\n",
    "* [Multiple View Geometry in Computer Vision, 2nd ed.](https://www.robots.ox.ac.uk/~vgg/hzbook/), Hartley and Zisserman, , Cambridge University Press, 2004\n",
    "* [An Invitation to 3-D Vision (pdf)](https://www.eecis.udel.edu/~cer/arv/readings/old_mkss.pdf), Yi Ma, Jana Koˇseck´a, Stefano Soatto, Shankar Sastry, 2001\n"
   ]
  },
  {
   "cell_type": "code",
   "execution_count": null,
   "metadata": {},
   "outputs": [],
   "source": [
    "#|export\n",
    "\n",
    "SUPPORTED_CAMERA_MODELS = dict(\n",
    "    SIMPLE_PINHOLE = dict(id=0, n_params=3, params_str='f, cx, cy'), \n",
    "    PINHOLE        = dict(id=1, n_params=4,params_str='fx, fy, cx, cy'), \n",
    "    SIMPLE_RADIAL  = dict(id=2, n_params=4,params_str='f, cx, cy, k'), \n",
    "    RADIAL         = dict(id=3, n_params=5,params_str='f, cx, cy, k1, k2'), \n",
    "    OPENCV         = dict(id=4, n_params=8,params_str='fx, fy, cx, cy, k1, k2, p1, p2'), \n",
    "    OPENCV_FISHEYE = dict(id=5, n_params=8,params_str='fx, fy, cx, cy, k1, k2, k3, k4'), \n",
    "    FULL_OPENCV    = dict(id=6, n_params=12,params_str='fx, fy, cx, cy, k1, k2, p1, p2, k3, k4, k5, k6'), \n",
    "    FOV            = dict(id=7, n_params=5,params_str='fx, fy, cx, cy, omega'), \n",
    "    OPENCV5        = dict(id=-1, n_params=9,params_str='fx, fy, cx, cy, k1, k2, p1, p2, k3'),\n",
    "    UNKNOWN        = dict(id=-1, n_params=0,params_str='[]'), \n",
    ")\n"
   ]
  },
  {
   "cell_type": "code",
   "execution_count": null,
   "metadata": {},
   "outputs": [],
   "source": [
    "#|export\n",
    "\n",
    "class Intrinsicts:\n",
    "    'Camera intrinsic model'\n",
    "    def __init__(self, \n",
    "                 camera_model_name: str,   # One of the keys in SUPPORTED_CAMERA_MODELS\n",
    "                 width: int,               # width of the image in pixels\n",
    "                 height: int,              # height of the image in pixels\n",
    "                 params: list):            # parameters, in COLMAP conventions\n",
    "        # prior_focal_length : 1 if we have confidence in the modelparameters and 0 if we do not trust the model parameters\n",
    "\n",
    "        if camera_model_name not in SUPPORTED_CAMERA_MODELS:\n",
    "            raise ValueError(f'Camera model [\"{camera_model_name}\"] not recognized as colmap camera model')\n",
    "        \n",
    "        param_names = SUPPORTED_CAMERA_MODELS[camera_model_name]['params_str'].split(',')\n",
    "        param_names = [p.strip() for p in param_names]\n",
    "        if len(param_names) != len(params):\n",
    "            raise ValueError(f'{camera_model_name} expectes {len(param_names)} parameters but got {len(params)}') \n",
    "\n",
    "        self._w = width\n",
    "        self._h = height\n",
    "\n",
    "        self._camera_model_name = camera_model_name\n",
    "        self._set_params(camera_model_name, params)\n",
    "\n",
    "    @staticmethod\n",
    "    def supported_camera_models():\n",
    "        print('List of supported camera models and their parameters')\n",
    "        print(55*'_')\n",
    "        for m in SUPPORTED_CAMERA_MODELS:\n",
    "            p = SUPPORTED_CAMERA_MODELS[m]['params_str']\n",
    "            print(f'{m:20}: {p}')\n",
    "\n",
    "\n",
    "    def __str__(self):\n",
    "        s  = f'Camera: {self.camera_model_name()}\\n'\n",
    "        s += f'  w,h={self.width(),self.height()}\\n'\n",
    "        s += f'  params: {self.get_params()}\\n'\n",
    "        s += f'  cx,cy= ({self.cx()},{self.cy()})\\n'\n",
    "        s += f'  fx,fy= ({self.fx()},{self.fy()})\\n'\n",
    "        s += f'  distortions: {self.distortions()}\\n'\n",
    "\n",
    "\n",
    "        return s\n",
    "\n",
    "    __repr__ = __str__\n",
    "\n",
    "    @staticmethod\n",
    "    def from_pinhole_model(fx: float,   # Focal length (x) in pixels\n",
    "                           fy: float,   # Focal length (y) in pixels. fy might be equal to fx (SIMPLE_PINHOLE model) or different (PINHOLE model)\n",
    "                           cx:float,    # Camera center (x) in pixels\n",
    "                           cy: float,   # Camera center (y) in pixels\n",
    "                           width: int,  # Image width in pixels\n",
    "                           height: int  # Image height in pixels\n",
    "                           ) -> 'Intrinsicts':\n",
    "        'Contructing camera intrinsics model from opencv compatible data'\n",
    "        if fx == fy:\n",
    "            camera_model_name = 'SIMPLE_PINHOLE'\n",
    "            params = [fx, cx, cy]\n",
    "        else:\n",
    "            camera_model_name = 'PINHOLE'\n",
    "            params = [fx, fy, cx, cy]\n",
    "\n",
    "        return Intrinsicts(camera_model_name,width, height, params)\n",
    "\n",
    "\n",
    "    @staticmethod\n",
    "    def from_opencv_model(K: np.ndarray, # 3x3 camera matrix\n",
    "                          distortions: np.ndarray, # distortion array as produced by OpenCv\n",
    "                          width: int, # Camera width in pixels\n",
    "                          height: int # Camera height in pixels\n",
    "                         ) -> 'Intrinsicts':\n",
    "        'Contructing camera intrinsics model from opencv compatible data'\n",
    "        if not isinstance(distortions, list):\n",
    "            if len(distortions.shape) == 2:\n",
    "                distortions = distortions.squeeze()\n",
    "            distortions= distortions.tolist()\n",
    "     \n",
    "        fx = K[0,0]\n",
    "        cx = K[0,2]\n",
    "        fy = K[1,1]\n",
    "        cy = K[1,2]\n",
    "\n",
    "        params = [fx, fy, cx, cy]\n",
    "        if len(distortions) == 4:\n",
    "            camera_model_name = 'OPENCV'\n",
    "            params += distortions\n",
    "        elif len(distortions) == 5:\n",
    "            camera_model_name = 'OPENCV5'\n",
    "            params += distortions\n",
    "        else:\n",
    "            raise ValueError(f'Do not support opencv model with {len(distortions)} parameters')\n",
    "\n",
    "        return Intrinsicts(camera_model_name,width, height, params)\n",
    "\n",
    "    @staticmethod\n",
    "    def from_test_model():\n",
    "        'Contructing camera intrinsics model from opencv calibration tutorial'\n",
    "        w, h = 640, 480 \n",
    "\n",
    "        distortions = np.array(\n",
    "            [\n",
    "            [-2.6637260909660682e-01], \n",
    "            [-3.8588898922304653e-02], \n",
    "            [1.7831947042852964e-03], \n",
    "            [-2.8122100441115472e-04], \n",
    "            [2.3839153080878486e-01]\n",
    "            ]\n",
    "        )\n",
    "\n",
    "        mtx = np.array(\n",
    "            [\n",
    "                [5.3591573396163199e+02, 0.,                     3.4228315473308373e+02],\n",
    "                [0.,                     5.3591573396163199e+02, 2.3557082909788173e+02],\n",
    "                [0.,                     0.,                     1.]\n",
    "            ]\n",
    "        )\n",
    "\n",
    "        return Intrinsicts.from_opencv_model(mtx,distortions,w, h)\n",
    "\n",
    "    def camera_model_name(self) -> str:\n",
    "        'Returns the name of the camera model, e.g. `OPENCV`'\n",
    "        return self._camera_model_name\n",
    "\n",
    "    def fx(self):\n",
    "        'Returns the (x) focal point in pixels'\n",
    "        return self._K[0,0]\n",
    "\n",
    "    def fy(self):\n",
    "        'Returns the (y) forcal point in pixels'\n",
    "        return self._K[1,1]\n",
    "\n",
    "    def cx(self):\n",
    "        'Returns the x coordinate of the camera center in pixels'\n",
    "        return self._K[0,2]\n",
    "\n",
    "    def cy(self):\n",
    "        'Returns the y coordinate of the camera center in pixels'\n",
    "        return self._K[1,2]\n",
    "\n",
    "    def w(self):\n",
    "        'Returns the width of image, same as calling to the `width` method'\n",
    "        return self._w\n",
    "\n",
    "    def width(self):\n",
    "        'Returns the width of image, same as calling to the `w` method'\n",
    "        return self._w\n",
    "\n",
    "    def h(self):\n",
    "        'Returns the height of image, same as calling to the `height` method'\n",
    "        return self._h\n",
    "\n",
    "    def height(self):\n",
    "        'Returns the height of image, same as calling to the `h` method'\n",
    "        return self._h\n",
    "\n",
    "    def is_single_focal_lenght(self):\n",
    "        return 'SIMPLE' in self.camera_model_name()\n",
    "\n",
    "    def K(self, \n",
    "          use_homogenous_coordinates:bool=True # If True, returns 4x4 camera matrix in homogenous coordinates, otherwise return a 3x3 camera matrix\n",
    "          ) -> np.ndarray:\n",
    "\n",
    "        if not use_homogenous_coordinates:\n",
    "            return self._K[:3,:3]\n",
    "        return self._K\n",
    "\n",
    "    def distortions(self) -> np.ndarray:\n",
    "        'Returns 1D distortion array'\n",
    "        return self._distortions\n",
    "\n",
    "    def get_params(self) -> list:\n",
    "        'Get list of parametes as expected in the consrtructor for the given camera model'\n",
    "        if self.is_single_focal_lenght():\n",
    "            cp = [self.fx(), self.cx(), self.cy()]\n",
    "        else:\n",
    "            cp = [self.fx(), self.fy(), self.cx(), self.cy()]\n",
    "\n",
    "        p = cp + [float(d) for d in self.distortions()]\n",
    "        return p\n",
    "  \n",
    "    def camera2image(self, pc):\n",
    "        p_camera_plane_undistorted = self.project_perspective(pc)\n",
    "        p_camera_plane_distorted = self.distort(p_camera_plane_undistorted)\n",
    "        p_image = self.camera_plane_distorted_to_image_plane(p_camera_plane_distorted)\n",
    "        return p_image\n",
    "\n",
    "    def project_perspective(\n",
    "        self, \n",
    "        pc: np.array   # a 3D point in th ecamera frame, either with 3 components or with 4 components if expressed in homogenous coordinates\n",
    "        ) -> np.ndarray:\n",
    "        'A projective transformation cinverting a 3D point in canmera frame to a 2D point in the image plane of that frame'\n",
    "        is_h = len(pc) == 4\n",
    "\n",
    "        disparity = 1/pc[2]\n",
    "        xc = pc[0]*disparity\n",
    "        yc = pc[1]*disparity\n",
    "\n",
    "        if is_h:\n",
    "            return np.array([xc,yc, disparity])   # homogenous coordinates\n",
    "\n",
    "        return np.array([xc,yc]), disparity\n",
    "\n",
    "\n",
    "    def project_camera_plane_to_3d(self, pc: np.array, disparity=None):\n",
    "        \"\"\"project a 3D vector\n",
    "           See Szeliski, 2.1\n",
    "\n",
    "        Args:\n",
    "            pw (np.array): 4D vector of a world 3D point \n",
    "        \"\"\"\n",
    "\n",
    "        pc_3d = np.array([pc[0]/disparity, pc[1]/disparity,1./disparity,1])\n",
    "\n",
    "        p_3d = np.linalg.inv(self.extrinsics) @ pc_3d\n",
    "\n",
    "        return p_3d\n",
    "\n",
    "\n",
    "    def distort(self, p_cam_distorted: np.ndarray):\n",
    "        # see line 888 in https://github.com/colmap/colmap/blob/dev/src/base/camera_models.h\n",
    "        camera_model_name = self.camera_model_name()\n",
    "        distortions = self.distortions()\n",
    "        if len(distortions) == 0:\n",
    "            return  p_cam_distorted.copy()\n",
    "\n",
    "\n",
    "        if camera_model_name == 'OPENCV5':\n",
    "            # See https://learnopencv.com/understanding-lens-distortion/\n",
    "            k1 = distortions[0]\n",
    "            k2 = distortions[1]\n",
    "            p1 = distortions[2]\n",
    "            p2 = distortions[3] \n",
    "            k3 = distortions[4]\n",
    "\n",
    "            xd = p_cam_distorted[0]\n",
    "            yd = p_cam_distorted[1]\n",
    "\n",
    "            x2 = xd*xd\n",
    "            y2 = yd*yd\n",
    "            xy = xd*yd\n",
    "            r2 = x2 + y2\n",
    "            r4 = r2*r2\n",
    "            r6 = r2*r4\n",
    "\n",
    "            a = 1.0 + k1*r2  + k2*r4 + k3*r6\n",
    "            xu = a*xd + 2.0*p1*xy + p2*(r2 + 2.0*x2)\n",
    "            yu = a*yd + p1*(r2+2.0*y2) + 2.0*p2*xy\n",
    "    \n",
    "        p_cam_distorted = np.array([xu,yu])\n",
    "\n",
    "        return p_cam_distorted\n",
    "\n",
    "    def camera_plane_distorted_to_image_plane(\n",
    "        self,\n",
    "        pc_distorted: np.ndarray  # The distorted point in the reference camera plane 2D or 3D if in homogenous coordinates\n",
    "        ) -> np.ndarray:\n",
    "        'Transform an image given in the image plane of the camera reference frame into pixel coordinates in the image'\n",
    " \n",
    "        is_h = False\n",
    "        if len(pc_distorted) == 2:\n",
    "            # to homogenous coordinates\n",
    "            is_h = True\n",
    "            pc_distorted = np.append(pc_distorted, 1.0)\n",
    "        \n",
    "        pix = self.K(use_homogenous_coordinates=False) @ pc_distorted\n",
    "\n",
    "        if not is_h:\n",
    "            return pix[:2]\n",
    "\n",
    "        return pix\n",
    "\n",
    "\n",
    "    def get_undistort_matrix(self, alpha=1.0):\n",
    "        newcameramtx, roi = cv2.getOptimalNewCameraMatrix(self.K, self.distortions, (self.w,self.h), alpha, (self.w,self.h))\n",
    "        return newcameramtx\n",
    "\n",
    "    def _set_params(self, camera_model_name, params):\n",
    "        param_names = SUPPORTED_CAMERA_MODELS[camera_model_name]['params_str'].split(',')\n",
    "        param_names = [p.strip() for p in param_names]\n",
    "        if len(param_names) != len(params):\n",
    "            raise ValueError(f'{camera_model_name} expectes {len(param_names)} parameters but got {len(params)}') \n",
    "\n",
    "        self._params = params\n",
    "        \n",
    "        # First names should be one of f,fx,fy,cx,cy\n",
    "        camera_matrix_components = ['f','fx','fy','cx','cy']\n",
    "        dlist = []\n",
    "        cp = edict(fx=0.,fy=0.,cx=0.,cy=0.)\n",
    "        for i, (name, val) in enumerate(zip(param_names,params)):\n",
    "#             print(name,val)\n",
    "            if name not in camera_matrix_components:\n",
    "                dlist.append(val)\n",
    "            elif name == 'f': \n",
    "                cp.fx = val\n",
    "                cp.fy = val\n",
    "            else:\n",
    "                cp[name] = val\n",
    "\n",
    "        self._K = np.array(\n",
    "            [\n",
    "                [cp.fx, 0.0,     cp.cx,     0.0],\n",
    "                [0.0,     cp.fy, cp.cy,     0.0],\n",
    "                [0.0,     0.0,     1.0,     0.0 ],\n",
    "                [0.0,     0.0,     0.0,     1.0 ]\n",
    "            ]\n",
    "        )\n",
    "    \n",
    "        self._distortions = np.array(dlist, dtype=np.float64)\n",
    "\n",
    "    \n",
    "    def _get_params_to_new_cx_cy_fx_fy(self, new_cx, new_cy, new_fx=None, new_fy=None):\n",
    "        new_fx = self.fx if new_fx is None else new_fx\n",
    "        new_fy = self.fy if new_fy is None else new_fy\n",
    "\n",
    "        if self.is_single_focal_lenght():\n",
    "            cp = [new_fx, new_cx, new_cy]\n",
    "        else:\n",
    "            cp =  [new_fx, new_fy, new_cx, new_cy]\n",
    "\n",
    "        p = cp + [float(d) for d in self.distortions()]\n",
    "        return p\n",
    "\n",
    "    def crop_bbox(self, in_bbox, c_bbox, new_width, new_height):\n",
    "        if in_bbox is None: return None\n",
    "\n",
    "        if in_bbox.minx >= c_bbox.maxx or in_bbox.maxx <= c_bbox.minx: return None\n",
    "        if in_bbox.miny >= c_bbox.maxy or in_bbox.maxy <= c_bbox.miny: return None\n",
    "\n",
    "        b_xmin = max(in_bbox.minx - c_bbox.minx,0)\n",
    "        b_xmax = min(max(in_bbox.maxx - c_bbox.minx,0), new_width)\n",
    "        b_ymin = max(in_bbox.miny - c_bbox.miny,0)\n",
    "        b_ymax = min(max(in_bbox.maxy - c_bbox.miny,0), new_height)\n",
    "        if b_xmin == b_xmax or b_ymin == b_ymax: return None\n",
    "\n",
    "        return edict(\n",
    "            minx = b_xmin,\n",
    "            maxx = b_xmax,\n",
    "            miny = b_ymin,\n",
    "            maxy = b_ymax\n",
    "        )\n",
    "    \n",
    "\n",
    "    def resize(self, new_size):\n",
    "        \"\"\"Change camera intrinsicts due to image resize --> scale of focal lenghts\n",
    "        Args:\n",
    "            new_size (tuple): (destination_width, destination_height)\n",
    "        \"\"\"\n",
    "        new_width = new_size[0]\n",
    "        new_height = new_size[1]\n",
    "        scale_w = new_width / self.width\n",
    "        scale_h = new_height / self.height\n",
    "\n",
    "        fx  = self.fx * scale_w    # fx\n",
    "        cx  = self.cx * scale_w    # cx\n",
    "        fy  = self.fy * scale_h    # fy\n",
    "        cy  = self.cy * scale_h    # cy\n",
    "\n",
    "        new_params = self._get_params_to_new_cx_cy_fx_fy(cx, cy, fx, fy)\n",
    "\n",
    "        return Intrinsicts(\n",
    "            camera_model_name=self.camera_model_name, \n",
    "            width=new_width, \n",
    "            height=new_height, \n",
    "            params=new_params\n",
    "        )\n",
    "\n",
    "    def crop(self, bbox, new_name=None):\n",
    "        \"\"\"Change camera intrinsicts due to clipping to a rectangular window --> shifting the proincipal point\n",
    "        Args:\n",
    "            min_crop_x (float): Minimal coordinate of clipping rectangle in x directior, in pixels\n",
    "            min_crop_y ([float]): Minimal coordinate of clipping rectangle in y directior, in pixels\n",
    "        \"\"\"\n",
    "        new_cx = self.cx -  int(round(bbox.minx))   # cx\n",
    "        new_cy = self.cy - int(round(bbox.miny))   # cy\n",
    "\n",
    "        new_width = bbox.maxx - bbox.minx\n",
    "        new_height = bbox.maxy - bbox.miny\n",
    "\n",
    "        new_params = self._get_params_to_new_cx_cy_fx_fy(new_cx, new_cy)\n",
    "\n",
    "        return Intrinsicts(\n",
    "            camera_model_name=self.camera_model_name, \n",
    "            width=new_width, \n",
    "            height=new_height, \n",
    "            params=new_params\n",
    "        )\n",
    "\n",
    "    def get_optimal_new_camera_matrix(self, alpha):\n",
    "        \"\"\"_summary_\n",
    "\n",
    "        Args:\n",
    "            alpha (float): A number between 0 and 1, If the value is \n",
    "               alpha = 0 --> when all the pixels in the undistorted image are valid\n",
    "               alpha = 1 --> when all the source image pixels are retained in the undistorted image but with many black pixels \n",
    "            new_image_size (_type_, optional): _description_. Defaults to None.\n",
    "        \"\"\"\n",
    "        # See cvGetOptimalNewCameraMatrix in line 2714 of https://github.com/opencv/opencv/blob/4.x/modules/calib3d/src/calibration.cpp\n",
    "        # See https://docs.opencv.org/3.3.0/dc/dbb/tutorial_py_calibration.html\n",
    "\n",
    "        outer, inner = self.icv_get_rectangles()\n",
    "\n",
    "        new_image_width = self.width\n",
    "        new_image_height = self.height\n",
    "   \n",
    "        # Projection mapping inner rectangle to viewport\n",
    "        fx0 = (new_image_width-1)/ inner.width\n",
    "        fy0 = (new_image_height-1)/ inner.height\n",
    "        cx0 = -fx0 * inner.x\n",
    "        cy0 = -fy0 * inner.y\n",
    "\n",
    "        # Projection mapping outer rectangle to viewport\n",
    "        fx1 = (new_image_width-1)/ outer.width\n",
    "        fy1 = (new_image_height-1)/ outer.height\n",
    "        cx1 = -fx1 * outer.x\n",
    "        cy1 = -fy1 * outer.y\n",
    "\n",
    "        # Interpolate between the two optimal projections\n",
    "        fx = fx0*(1 - alpha) + fx1*alpha\n",
    "        fy = fy0*(1 - alpha) + fy1*alpha\n",
    "        cx = cx0*(1 - alpha) + cx1*alpha\n",
    "        cy = cy0*(1 - alpha) + cy1*alpha\n",
    "\n",
    "        new_params = [fx,fy,cx,cy]\n",
    "        return Intrinsicts(\n",
    "            camera_model_name='PINHOLE', \n",
    "            width=new_image_width, \n",
    "            height=new_image_height, \n",
    "            params=new_params\n",
    "        )\n",
    "\n",
    "\n",
    "\n",
    "\n",
    "    def project_image_plane_to_camera_plane(self, pu: np.ndarray):\n",
    "        K = self.K(use_homogenous_coordinates=False)\n",
    "        fx = K[0,0]\n",
    "        fy = K[1,1]\n",
    "        cx = K[0,2]\n",
    "        cy = K[1,2]\n",
    "        \n",
    "        xc = (pu[0] - cx)/fx\n",
    "        yc = (pu[1] - cy)/fy\n",
    "        return np.array([xc, yc])\n",
    "\n",
    "    def undistort(self, pc_distorted: np.array):\n",
    "        # see line 565 in https://github.com/colmap/colmap/blob/dev/src/base/camera_models.h\n",
    "        eps =np.finfo(np.float64).eps\n",
    "\n",
    "        kNumIterations = 100\n",
    "        kMaxStepNorm = np.float32(1e-10)\n",
    "        kRelStepSize = np.float32(1e-6)\n",
    "\n",
    "        J = np.eye(2)\n",
    "        x0 = pc_distorted.copy()\n",
    "        x = pc_distorted.copy()\n",
    "        for i in range(kNumIterations):\n",
    "            step0 = np.max([eps, kRelStepSize * x[0]])\n",
    "            step1 = np.max([eps, kRelStepSize * x[1]])\n",
    "\n",
    "            dx = self.distort(x)\n",
    "\n",
    "            dx_0b = self.distort(np.array([x[0] - step0, x[1]]))\n",
    "            dx_0f = self.distort(np.array([x[0] + step0, x[1]]))\n",
    "            dx_1b = self.distort(np.array([x[0]        , x[1] - step1]))\n",
    "            dx_1f = self.distort(np.array([x[0]        , x[1] + step1]))\n",
    "            J[0, 0] = 1 + (dx_0f[0] - dx_0b[0]) / (2 * step0)\n",
    "            J[0, 1] = (dx_1f[0] - dx_1b[0]) / (2 * step1)\n",
    "            J[1, 0] = (dx_0f[1] - dx_0b[1]) / (2 * step0)\n",
    "            J[1, 1] = 1 + (dx_1f[1] - dx_1b[1]) / (2 * step1)\n",
    "    \n",
    "            step_x = np.linalg.inv(J) @ (dx - x0)\n",
    "            x -= step_x\n",
    "\n",
    "            squaren_norm = step_x[0]*step_x[0] + step_x[1]*step_x[1]\n",
    "            if squaren_norm < kMaxStepNorm:\n",
    "                break\n",
    "\n",
    "        return  x   # undistorted\n",
    "\n",
    "\n",
    "    def icv_get_rectangles(self):\n",
    "        # see icvGetRectangles, line 2460 in https://github.com/opencv/opencv/blob/4.x/modules/calib3d/src/calibration.cpp\n",
    "        N = 9\n",
    "        x_step = self.w / (N-1)\n",
    "        y_step = self.h / (N-1)\n",
    "\n",
    "        # Get a grid over [w,h] image in original, distorted, coordinates\n",
    "        xu = []\n",
    "        yu = []\n",
    "        xu_left = []\n",
    "        xu_right = []\n",
    "        yu_bottom = [] \n",
    "        yu_top = []         \n",
    "        for y in range(N):\n",
    "            yp = y*y_step\n",
    "            for x in range(N):\n",
    "                xp = x*x_step\n",
    "                ps = np.array([xp,yp])\n",
    "                pc_distorted = self.project_image_plane_to_camera_plane(ps)                # from 2d pixel coordinates to 2D camera plane\n",
    "                pc_undistorted = self.undistort(pc_distorted)                              # undistors with inverse lens distortions\n",
    "\n",
    "                x_undistorted = pc_undistorted[0]\n",
    "                y_undistorted = pc_undistorted[1]\n",
    "\n",
    "                xu.append(x_undistorted)\n",
    "                yu.append(y_undistorted)\n",
    "                if x == 0: xu_left.append(x_undistorted)\n",
    "                if x == N-1: xu_right.append(x_undistorted)\n",
    "                if y == 0: yu_top.append(y_undistorted)\n",
    "                if y == N-1: yu_bottom.append(y_undistorted)\n",
    "\n",
    "\n",
    "        xmin_o = np.min(xu)\n",
    "        xmax_o = np.max(xu)\n",
    "        ymin_o = np.min(yu)\n",
    "        ymax_o = np.max(yu)\n",
    "        outer = edict(x=xmin_o, y=ymin_o, width=xmax_o-xmin_o, height=ymax_o-ymin_o)\n",
    "\n",
    "\n",
    "        xmin_i = np.max(xu_left)\n",
    "        xmax_i = np.min(xu_right)\n",
    "        ymin_i = np.max(yu_top)\n",
    "        ymax_i = np.min(yu_bottom)\n",
    "        inner = edict(x=xmin_i, y=ymin_i, width=xmax_i-xmin_i, height=ymax_i-ymin_i)\n",
    "\n",
    "        return outer, inner\n",
    "\n",
    "    def get_fov(self):\n",
    "        # Zeliltsky 2.60\n",
    "        fovx = 2 * np.rad2deg(np.arctan2(self.width , (2 * self.fx)))\n",
    "        fovy = 2 * np.rad2deg(np.arctan2(self.height , (2 * self.fy)))\n",
    "\n",
    "        return edict(fovx=fovx, fovy=fovy)\n",
    "\n",
    "    def to_dict(self):\n",
    "        return self.as_dict()\n",
    "\n",
    "    def as_dict(self):\n",
    "        asdict = dict(\n",
    "            width=self.width,\n",
    "            height=self.height,\n",
    "            camera_model_name=self.camera_model_name,\n",
    "            params=[float(p) for p in self.params.tolist()]\n",
    "        )\n",
    "        return asdict\n",
    "\n",
    "#     def to_json(self, json_file):\n",
    "#         write_json_file(self.as_dict(), json_file)\n"
   ]
  },
  {
   "cell_type": "markdown",
   "metadata": {},
   "source": [
    "### Supported camera models\n",
    "This is the list of all supported camera models. Each item includes tha name of the camera model, e.g. `SIMPLE_RADIAL` and list of expected parameters as handled by `Intrinsicts`. All camera models of [COLMAP](https://github.com/colmap/colmap/blob/master/src/base/camera_models.h) are supported and some more, as needed.\n"
   ]
  },
  {
   "cell_type": "code",
   "execution_count": null,
   "metadata": {},
   "outputs": [
    {
     "name": "stdout",
     "output_type": "stream",
     "text": [
      "List of supported camera models and their parameters\n",
      "_______________________________________________________\n",
      "SIMPLE_PINHOLE      : f, cx, cy\n",
      "PINHOLE             : fx, fy, cx, cy\n",
      "SIMPLE_RADIAL       : f, cx, cy, k\n",
      "RADIAL              : f, cx, cy, k1, k2\n",
      "OPENCV              : fx, fy, cx, cy, k1, k2, p1, p2\n",
      "OPENCV_FISHEYE      : fx, fy, cx, cy, k1, k2, k3, k4\n",
      "FULL_OPENCV         : fx, fy, cx, cy, k1, k2, p1, p2, k3, k4, k5, k6\n",
      "FOV                 : fx, fy, cx, cy, omega\n",
      "OPENCV5             : fx, fy, cx, cy, k1, k2, p1, p2, k3\n",
      "UNKNOWN             : []\n"
     ]
    }
   ],
   "source": [
    "Intrinsicts.supported_camera_models()"
   ]
  },
  {
   "cell_type": "markdown",
   "metadata": {},
   "source": [
    "## Construct camera model"
   ]
  },
  {
   "cell_type": "markdown",
   "metadata": {},
   "source": [
    "### Initialization\n",
    "Call to the constructor of the class with parameters such as"
   ]
  },
  {
   "cell_type": "code",
   "execution_count": null,
   "metadata": {},
   "outputs": [
    {
     "data": {
      "text/plain": [
       "Camera: OPENCV5\n",
       "  w,h=(640, 320)\n",
       "  params: [400.0, 410.0, 320.0, 160.0, 14.0, 15.0, 16.0, 17.0, 228.0]\n",
       "  cx,cy= (320.0,160.0)\n",
       "  fx,fy= (400.0,410.0)\n",
       "  distortions: [ 14.  15.  16.  17. 228.]"
      ]
     },
     "execution_count": null,
     "metadata": {},
     "output_type": "execute_result"
    }
   ],
   "source": [
    "c = Intrinsicts(\n",
    "    camera_model_name='OPENCV5',\n",
    "    width=640,\n",
    "    height=320,\n",
    "    params=[400, 410.0, 320, 160,14,15,16,17,228]\n",
    ")\n",
    "\n",
    "c"
   ]
  },
  {
   "cell_type": "markdown",
   "metadata": {},
   "source": [
    "### Construction functions \n"
   ]
  },
  {
   "cell_type": "code",
   "execution_count": null,
   "metadata": {},
   "outputs": [
    {
     "data": {
      "text/markdown": [
       "---\n",
       "\n",
       "#### Intrinsicts.from_opencv_model\n",
       "\n",
       ">      Intrinsicts.from_opencv_model (K:numpy.ndarray,\n",
       ">                                     distortions:numpy.ndarray, width:int,\n",
       ">                                     height:int)\n",
       "\n",
       "Contructing camera intrinsics model from opencv compatible data\n",
       "\n",
       "|    | **Type** | **Details** |\n",
       "| -- | -------- | ----------- |\n",
       "| K | ndarray | 3x3 camera matrix |\n",
       "| distortions | ndarray | distortion array as produced by OpenCv |\n",
       "| width | int | Camera width in pixels |\n",
       "| height | int | Camera height in pixels |\n",
       "| **Returns** | **Intrinsicts** |  |"
      ],
      "text/plain": [
       "<nbdev.showdoc.BasicMarkdownRenderer>"
      ]
     },
     "execution_count": null,
     "metadata": {},
     "output_type": "execute_result"
    }
   ],
   "source": [
    "show_doc(Intrinsicts.from_opencv_model)"
   ]
  },
  {
   "cell_type": "code",
   "execution_count": null,
   "metadata": {},
   "outputs": [
    {
     "data": {
      "text/markdown": [
       "---\n",
       "\n",
       "#### Intrinsicts.from_pinhole_model\n",
       "\n",
       ">      Intrinsicts.from_pinhole_model (fx:float, fy:float, cx:float, cy:float,\n",
       ">                                      width:int, height:int)\n",
       "\n",
       "Contructing camera intrinsics model from opencv compatible data\n",
       "\n",
       "|    | **Type** | **Details** |\n",
       "| -- | -------- | ----------- |\n",
       "| fx | float | Focal length (x) in pixels |\n",
       "| fy | float | Focal length (y) in pixels. fy might be equal to fx (SIMPLE_PINHOLE model) or different (PINHOLE model) |\n",
       "| cx | float | Camera center (x) in pixels |\n",
       "| cy | float | Camera center (y) in pixels |\n",
       "| width | int | Image width in pixels |\n",
       "| height | int | Image height in pixels |\n",
       "| **Returns** | **Intrinsicts** |  |"
      ],
      "text/plain": [
       "<nbdev.showdoc.BasicMarkdownRenderer>"
      ]
     },
     "execution_count": null,
     "metadata": {},
     "output_type": "execute_result"
    }
   ],
   "source": [
    "show_doc(Intrinsicts.from_pinhole_model)"
   ]
  },
  {
   "cell_type": "markdown",
   "metadata": {},
   "source": [
    "As an example, consider the construction from an OpenCv model with 5 parameters:"
   ]
  },
  {
   "cell_type": "code",
   "execution_count": null,
   "metadata": {},
   "outputs": [
    {
     "data": {
      "text/plain": [
       "Camera: OPENCV5\n",
       "  w,h=(1280, 720)\n",
       "  params: [600.0, 600.0, 640.0, 360.0, -0.151960304, 0.560700273, -0.012823499, 0.0014177545, 5.23404322]\n",
       "  cx,cy= (640.0,360.0)\n",
       "  fx,fy= (600.0,600.0)\n",
       "  distortions: [-1.51960304e-01  5.60700273e-01 -1.28234990e-02  1.41775450e-03\n",
       "  5.23404322e+00]"
      ]
     },
     "execution_count": null,
     "metadata": {},
     "output_type": "execute_result"
    }
   ],
   "source": [
    "width = 1280\n",
    "height = 720\n",
    "fx = 600\n",
    "fy = 600\n",
    "cx = 1280 /2\n",
    "cy = 720 /2\n",
    "K = np.array(\n",
    "    [\n",
    "        [fx, 0.0, cx],\n",
    "        [0.0, fy, cy],\n",
    "        [0.0,0.0,1.0]\n",
    "    ]\n",
    ")\n",
    "\n",
    "\n",
    "distortions = [-1.51960304e-01,  5.60700273e-01, -1.28234990e-02,  1.41775450e-03, 5.23404322e+00]\n",
    "Intrinsicts.from_opencv_model(K,distortions,width, height)"
   ]
  },
  {
   "cell_type": "code",
   "execution_count": null,
   "metadata": {},
   "outputs": [
    {
     "data": {
      "text/markdown": [
       "---\n",
       "\n",
       "#### Intrinsicts.from_test_model\n",
       "\n",
       ">      Intrinsicts.from_test_model ()\n",
       "\n",
       "Contructing camera intrinsics model from opencv calibration tutorial"
      ],
      "text/plain": [
       "<nbdev.showdoc.BasicMarkdownRenderer>"
      ]
     },
     "execution_count": null,
     "metadata": {},
     "output_type": "execute_result"
    }
   ],
   "source": [
    "show_doc(Intrinsicts.from_test_model)"
   ]
  },
  {
   "cell_type": "markdown",
   "metadata": {},
   "source": [
    "The test model is taken form the [OpenCV calibration tutorial](https://docs.opencv.org/3.3.0/dc/dbb/tutorial_py_calibration.html) and the images used for calibrating the test model are given in  [this directory](https://github.com/opencv/opencv/tree/master/samples/data)"
   ]
  },
  {
   "cell_type": "code",
   "execution_count": null,
   "metadata": {},
   "outputs": [
    {
     "data": {
      "text/plain": [
       "Camera: OPENCV5\n",
       "  w,h=(640, 480)\n",
       "  params: [535.915733961632, 535.915733961632, 342.28315473308373, 235.57082909788173, -0.2663726090966068, -0.03858889892230465, 0.0017831947042852964, -0.0002812210044111547, 0.23839153080878486]\n",
       "  cx,cy= (342.28315473308373,235.57082909788173)\n",
       "  fx,fy= (535.915733961632,535.915733961632)\n",
       "  distortions: [-0.26637261 -0.0385889   0.00178319 -0.00028122  0.23839153]"
      ]
     },
     "execution_count": null,
     "metadata": {},
     "output_type": "execute_result"
    }
   ],
   "source": [
    "Intrinsicts.from_test_model()"
   ]
  },
  {
   "cell_type": "markdown",
   "metadata": {},
   "source": [
    "## Access functions "
   ]
  },
  {
   "cell_type": "code",
   "execution_count": null,
   "metadata": {},
   "outputs": [
    {
     "name": "stdout",
     "output_type": "stream",
     "text": [
      "Camera : OPENCV5, fx=400.0, fy=410.0, cx=320.0, cy=160.0, distortions=[ 14.  15.  16.  17. 228.]\n",
      "Camera width: 640, heigth: 320\n"
     ]
    }
   ],
   "source": [
    "print(f'Camera : {c.camera_model_name()}, fx={c.fx()}, fy={c.fy()}, cx={c.cx()}, cy={c.cy()}, distortions={c.distortions()}')\n",
    "print(f'Camera width: {c.w()}, heigth: {c.h()}')"
   ]
  },
  {
   "cell_type": "code",
   "execution_count": null,
   "metadata": {},
   "outputs": [
    {
     "data": {
      "text/markdown": [
       "---\n",
       "\n",
       "#### Intrinsicts.K\n",
       "\n",
       ">      Intrinsicts.K (use_homogenous_coordinates:bool=True)\n",
       "\n",
       "|    | **Type** | **Default** | **Details** |\n",
       "| -- | -------- | ----------- | ----------- |\n",
       "| use_homogenous_coordinates | bool | True | If True, returns 4x4 camera matrix in homogenous coordinates, otherwise return a 3x3 camera matrix |\n",
       "| **Returns** | **ndarray** |  |  |"
      ],
      "text/plain": [
       "<nbdev.showdoc.BasicMarkdownRenderer>"
      ]
     },
     "execution_count": null,
     "metadata": {},
     "output_type": "execute_result"
    }
   ],
   "source": [
    "show_doc(Intrinsicts.K)"
   ]
  },
  {
   "cell_type": "code",
   "execution_count": null,
   "metadata": {},
   "outputs": [
    {
     "name": "stdout",
     "output_type": "stream",
     "text": [
      "Homogenous camera matrix: \n",
      " [[400.   0. 320.   0.]\n",
      " [  0. 410. 160.   0.]\n",
      " [  0.   0.   1.   0.]\n",
      " [  0.   0.   0.   1.]], float64\n",
      "Non homogenous camera matrix: \n",
      " [[400.   0. 320.]\n",
      " [  0. 410. 160.]\n",
      " [  0.   0.   1.]], float64\n"
     ]
    }
   ],
   "source": [
    "print(f'Homogenous camera matrix: \\n {c.K(use_homogenous_coordinates=True)}, {c.K(use_homogenous_coordinates=True).dtype}')\n",
    "print(f'Non homogenous camera matrix: \\n {c.K(use_homogenous_coordinates=False)}, {c.K(use_homogenous_coordinates=False).dtype}')"
   ]
  },
  {
   "cell_type": "code",
   "execution_count": null,
   "metadata": {},
   "outputs": [
    {
     "data": {
      "text/markdown": [
       "---\n",
       "\n",
       "#### Intrinsicts.distortions\n",
       "\n",
       ">      Intrinsicts.distortions ()\n",
       "\n",
       "Returns 1D distortion array"
      ],
      "text/plain": [
       "<nbdev.showdoc.BasicMarkdownRenderer>"
      ]
     },
     "execution_count": null,
     "metadata": {},
     "output_type": "execute_result"
    }
   ],
   "source": [
    "show_doc(Intrinsicts.distortions)"
   ]
  },
  {
   "cell_type": "code",
   "execution_count": null,
   "metadata": {},
   "outputs": [
    {
     "name": "stdout",
     "output_type": "stream",
     "text": [
      "Distortions: [ 14.  15.  16.  17. 228.], float64\n"
     ]
    }
   ],
   "source": [
    "print(f'Distortions: {c.distortions()}, {c.distortions().dtype}')"
   ]
  },
  {
   "cell_type": "code",
   "execution_count": null,
   "metadata": {},
   "outputs": [
    {
     "data": {
      "text/markdown": [
       "---\n",
       "\n",
       "#### Intrinsicts.get_params\n",
       "\n",
       ">      Intrinsicts.get_params ()\n",
       "\n",
       "Get list of parametes as expected in the consrtructor for the given camera model"
      ],
      "text/plain": [
       "<nbdev.showdoc.BasicMarkdownRenderer>"
      ]
     },
     "execution_count": null,
     "metadata": {},
     "output_type": "execute_result"
    }
   ],
   "source": [
    "show_doc(Intrinsicts.get_params)"
   ]
  },
  {
   "cell_type": "code",
   "execution_count": null,
   "metadata": {},
   "outputs": [
    {
     "name": "stdout",
     "output_type": "stream",
     "text": [
      "Parameters of camera model OPENCV5: [400.0, 410.0, 320.0, 160.0, 14.0, 15.0, 16.0, 17.0, 228.0]\n"
     ]
    }
   ],
   "source": [
    "print(f'Parameters of camera model {c.camera_model_name()}: {c.get_params()}')"
   ]
  },
  {
   "cell_type": "markdown",
   "metadata": {},
   "source": [
    "## Project and unproject "
   ]
  },
  {
   "cell_type": "markdown",
   "metadata": {},
   "source": [
    "## Examples\n",
    "\n",
    "The data is taken from the [OpenCV calibration tutorial](https://docs.opencv.org/3.3.0/dc/dbb/tutorial_py_calibration.html) and was copied from [this directory](https://github.com/opencv/opencv/tree/master/samples/data)"
   ]
  },
  {
   "cell_type": "code",
   "execution_count": null,
   "metadata": {},
   "outputs": [
    {
     "data": {
      "text/plain": [
       "Camera: OPENCV5\n",
       "  w,h=(640, 480)\n",
       "  params: [535.915733961632, 535.915733961632, 342.28315473308373, 235.57082909788173, -0.2663726090966068, -0.03858889892230465, 0.0017831947042852964, -0.0002812210044111547, 0.23839153080878486]\n",
       "  cx,cy= (342.28315473308373,235.57082909788173)\n",
       "  fx,fy= (535.915733961632,535.915733961632)\n",
       "  distortions: [-0.26637261 -0.0385889   0.00178319 -0.00028122  0.23839153]"
      ]
     },
     "execution_count": null,
     "metadata": {},
     "output_type": "execute_result"
    }
   ],
   "source": [
    "import os\n",
    "import sys\n",
    "from pathlib import Path\n",
    "import cv2\n",
    "\n",
    "\n",
    "def get_test_images():\n",
    "    root_dir = Path(os.getcwd())\n",
    "    if str(root_dir) not in sys.path:\n",
    "        sys.path.insert(0,str(root_dir))\n",
    "    else:\n",
    "        print('PATH O.K.')\n",
    "\n",
    "    img_dir = root_dir / 'data' \n",
    "    img_file = img_dir / 'left03.jpg'\n",
    "    img = cv2.imread(str(img_file))\n",
    "    h,  w = img.shape[:2]\n",
    "    print(w, h)\n",
    "\n",
    "\n",
    "\n",
    "ci = Intrinsicts.from_test_model()\n",
    "ci"
   ]
  },
  {
   "cell_type": "code",
   "execution_count": null,
   "metadata": {},
   "outputs": [],
   "source": [
    "\n",
    "# p_camera = np.array([0.5,0.5,1.0])\n",
    "# pimage = ci.camera2image(p_camera)\n",
    "# print(pimage)"
   ]
  },
  {
   "cell_type": "code",
   "execution_count": null,
   "metadata": {},
   "outputs": [],
   "source": [
    "#| hide\n",
    "from nbdev import nbdev_export\n",
    "nbdev_export()"
   ]
  },
  {
   "cell_type": "code",
   "execution_count": null,
   "metadata": {},
   "outputs": [],
   "source": []
  }
 ],
 "metadata": {
  "kernelspec": {
   "display_name": "Python 3.9.13 ('mvgutils')",
   "language": "python",
   "name": "python3"
  }
 },
 "nbformat": 4,
 "nbformat_minor": 4
}
